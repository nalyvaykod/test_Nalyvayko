{
 "cells": [
  {
   "cell_type": "code",
   "execution_count": 2,
   "id": "cd539cc1-120d-479a-be3a-51866fe88e9c",
   "metadata": {},
   "outputs": [],
   "source": [
    "import os\n",
    "\n",
    "os.chdir(\"../\")"
   ]
  },
  {
   "cell_type": "code",
   "execution_count": 4,
   "id": "893a675f-4316-42b1-9df2-c4a3c94489f2",
   "metadata": {},
   "outputs": [],
   "source": [
    "from sklearn.ensemble import RandomForestClassifier\n",
    "from sklearn.preprocessing import StandardScaler\n",
    "from mnist_classifier_interface import MnistClassifierInterface\n",
    "\n",
    "class RandomForestMnistClassifier(MnistClassifierInterface):\n",
    "    def __init__(self, n_estimators=100):\n",
    "        self.model = RandomForestClassifier(n_estimators=n_estimators)\n",
    "        self.scaler = StandardScaler()\n",
    "\n",
    "    def train(self, data, labels):\n",
    "        data = self.scaler.fit_transform(data)  # Масштабування ознак\n",
    "        self.model.fit(data, labels)\n",
    "\n",
    "    def predict(self, data):\n",
    "        data = self.scaler.transform(data)\n",
    "        return self.model.predict(data)\n"
   ]
  },
  {
   "cell_type": "code",
   "execution_count": null,
   "id": "b5d9f4d0-92f8-4a64-a598-434ea08eca47",
   "metadata": {},
   "outputs": [],
   "source": []
  }
 ],
 "metadata": {
  "kernelspec": {
   "display_name": "Python [conda env:base] *",
   "language": "python",
   "name": "conda-base-py"
  },
  "language_info": {
   "codemirror_mode": {
    "name": "ipython",
    "version": 3
   },
   "file_extension": ".py",
   "mimetype": "text/x-python",
   "name": "python",
   "nbconvert_exporter": "python",
   "pygments_lexer": "ipython3",
   "version": "3.12.7"
  }
 },
 "nbformat": 4,
 "nbformat_minor": 5
}

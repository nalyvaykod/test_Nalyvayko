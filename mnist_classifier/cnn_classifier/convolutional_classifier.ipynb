{
 "cells": [
  {
   "cell_type": "code",
   "execution_count": 2,
   "id": "210daf4a-ed6b-4059-ad30-9a2790754c92",
   "metadata": {},
   "outputs": [],
   "source": [
    "import os\n",
    "\n",
    "os.chdir(\"../\")"
   ]
  },
  {
   "cell_type": "code",
   "execution_count": 4,
   "id": "0f685a3a-6aac-435f-910e-e1a4c89ae997",
   "metadata": {},
   "outputs": [],
   "source": [
    "import torch\n",
    "import torch.nn as nn\n",
    "import torch.optim as optim\n",
    "from mnist_classifier_interface import MnistClassifierInterface\n",
    "\n",
    "class CNN(nn.Module):\n",
    "    def __init__(self):\n",
    "        super(CNN, self).__init__()\n",
    "        self.conv1 = nn.Conv2d(1, 16, kernel_size=3, padding=1)\n",
    "        self.relu = nn.ReLU()\n",
    "        self.fc1 = nn.Linear(16 * 28 * 28, 10)\n",
    "\n",
    "    def forward(self, x):\n",
    "        x = self.conv1(x)\n",
    "        x = self.relu(x)\n",
    "        x = x.view(x.size(0), -1)\n",
    "        x = self.fc1(x)\n",
    "        return x\n",
    "\n",
    "class CNNMnistClassifier(MnistClassifierInterface):\n",
    "    def __init__(self, lr=0.001):\n",
    "        self.model = CNN()\n",
    "        self.criterion = nn.CrossEntropyLoss()\n",
    "        self.optimizer = optim.Adam(self.model.parameters(), lr=lr)\n",
    "\n",
    "    def train(self, data, labels):\n",
    "        self.model.train()\n",
    "        data = torch.tensor(data, dtype=torch.float32).unsqueeze(1)\n",
    "        labels = torch.tensor(labels, dtype=torch.long)\n",
    "        outputs = self.model(data)\n",
    "        loss = self.criterion(outputs, labels)\n",
    "        self.optimizer.zero_grad()\n",
    "        loss.backward()\n",
    "        self.optimizer.step()\n",
    "\n",
    "    def predict(self, data):\n",
    "        self.model.eval()\n",
    "        with torch.no_grad():\n",
    "            data = torch.tensor(data, dtype=torch.float32).unsqueeze(1)\n",
    "            outputs = self.model(data)\n",
    "            _, predicted = torch.max(outputs, 1)\n",
    "        return predicted.numpy()\n"
   ]
  },
  {
   "cell_type": "code",
   "execution_count": null,
   "id": "a4324588-1bc0-4139-82bb-a91b16062376",
   "metadata": {},
   "outputs": [],
   "source": []
  }
 ],
 "metadata": {
  "kernelspec": {
   "display_name": "Python [conda env:base] *",
   "language": "python",
   "name": "conda-base-py"
  },
  "language_info": {
   "codemirror_mode": {
    "name": "ipython",
    "version": 3
   },
   "file_extension": ".py",
   "mimetype": "text/x-python",
   "name": "python",
   "nbconvert_exporter": "python",
   "pygments_lexer": "ipython3",
   "version": "3.12.7"
  }
 },
 "nbformat": 4,
 "nbformat_minor": 5
}

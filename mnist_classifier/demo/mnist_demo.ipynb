{
 "cells": [
  {
   "cell_type": "code",
   "execution_count": 1,
   "id": "9bf3a95e-84ff-48f4-a6bd-0f0f45800fb2",
   "metadata": {},
   "outputs": [],
   "source": [
    "import os\n",
    "\n",
    "os.chdir(\"../\")"
   ]
  },
  {
   "cell_type": "code",
   "execution_count": 2,
   "id": "eeff7074-0fb6-4bdb-8e09-8eebdfd41718",
   "metadata": {},
   "outputs": [
    {
     "name": "stdout",
     "output_type": "stream",
     "text": [
      "\n",
      "Model: RF\n",
      "Accuracy of Model RF: 0.9694\n",
      "\n",
      "Model: NN\n",
      "Accuracy of Model NN: 0.3877\n",
      "\n",
      "Model: CNN\n",
      "Accuracy of Model CNN: 0.3134\n"
     ]
    }
   ],
   "source": [
    "import numpy as np\n",
    "from mnist_classifier import MnistClassifier\n",
    "\n",
    "X_train, X_test, y_train, y_test = MnistClassifier.load_data()\n",
    "\n",
    "\n",
    "for model_name in [\"rf\", \"nn\", \"cnn\"]:\n",
    "    print(f\"\\nModel: {model_name.upper()}\")\n",
    "    \n",
    "    classifier = MnistClassifier(model_name).classifier\n",
    "    \n",
    "    classifier.train(X_train, y_train)\n",
    "    \n",
    "    predictions = classifier.predict(X_test)\n",
    "    \n",
    "    accuracy = np.mean(predictions == y_test)\n",
    "    print(f\"Accuracy of Model {model_name.upper()}: {accuracy:.4f}\")"
   ]
  },
  {
   "cell_type": "code",
   "execution_count": null,
   "id": "82e2610a-906c-4023-81f1-ea30605779cf",
   "metadata": {},
   "outputs": [],
   "source": []
  }
 ],
 "metadata": {
  "kernelspec": {
   "display_name": "Python [conda env:base] *",
   "language": "python",
   "name": "conda-base-py"
  },
  "language_info": {
   "codemirror_mode": {
    "name": "ipython",
    "version": 3
   },
   "file_extension": ".py",
   "mimetype": "text/x-python",
   "name": "python",
   "nbconvert_exporter": "python",
   "pygments_lexer": "ipython3",
   "version": "3.12.7"
  }
 },
 "nbformat": 4,
 "nbformat_minor": 5
}

{
 "cells": [
  {
   "cell_type": "code",
   "execution_count": null,
   "id": "69bf12a3-bade-49de-87fc-c256e88ef16f",
   "metadata": {},
   "outputs": [],
   "source": [
    "!python classification/train_classification.py"
   ]
  },
  {
   "cell_type": "code",
   "execution_count": 1,
   "id": "d48aed95-0ea8-41a3-86a8-2441ed64be3d",
   "metadata": {},
   "outputs": [],
   "source": [
    "import os\n",
    "\n",
    "os.chdir(\"../\")"
   ]
  },
  {
   "cell_type": "code",
   "execution_count": 3,
   "id": "f8a9ed86-ef60-4009-8c4b-4c86ddd30465",
   "metadata": {},
   "outputs": [
    {
     "name": "stdout",
     "output_type": "stream",
     "text": [
      "NER training data saved to C:\\Users\\rainb\\OneDrive\\Desktop\\test_tasks\\animal_recognition_pipeline\\data\\Animals-10\\ner_train.json\n",
      "Epoch 1, Loss: {'ner': 302.4999771118164}\n",
      "Epoch 2, Loss: {'ner': 288.66590309143066}\n",
      "Epoch 3, Loss: {'ner': 273.0527286529541}\n",
      "Epoch 4, Loss: {'ner': 255.02907848358154}\n",
      "Epoch 5, Loss: {'ner': 232.75546836853027}\n",
      "Epoch 6, Loss: {'ner': 213.5670509338379}\n",
      "Epoch 7, Loss: {'ner': 188.61736392974854}\n",
      "Epoch 8, Loss: {'ner': 160.1414031982422}\n",
      "Epoch 9, Loss: {'ner': 136.07313299179077}\n",
      "Epoch 10, Loss: {'ner': 122.54749417304993}\n",
      "NER model training completed and saved to 'C:\\Users\\rainb\\OneDrive\\Desktop\\test_tasks\\animal_recognition_pipeline\\ner_model'\n"
     ]
    }
   ],
   "source": [
    "!python ner/train_ner.py"
   ]
  },
  {
   "cell_type": "code",
   "execution_count": 1,
   "id": "8a762f6c-6617-4bed-9318-0fa5cf3df1e5",
   "metadata": {},
   "outputs": [],
   "source": [
    "import os\n",
    "\n",
    "os.chdir(\"../\")"
   ]
  },
  {
   "cell_type": "code",
   "execution_count": 3,
   "id": "56a8e3d1-2e7e-4e78-93be-b008217df5d5",
   "metadata": {},
   "outputs": [
    {
     "name": "stdout",
     "output_type": "stream",
     "text": [
      "[]\n"
     ]
    },
    {
     "ename": "FileNotFoundError",
     "evalue": "❌ Image file 'data/Animals-10/dog/1.jpg' not found.",
     "output_type": "error",
     "traceback": [
      "\u001b[1;31m---------------------------------------------------------------------------\u001b[0m",
      "\u001b[1;31mFileNotFoundError\u001b[0m                         Traceback (most recent call last)",
      "Cell \u001b[1;32mIn[3], line 8\u001b[0m\n\u001b[0;32m      5\u001b[0m image_path \u001b[38;5;241m=\u001b[39m \u001b[38;5;124m\"\u001b[39m\u001b[38;5;124mdata/Animals-10/dog/1.jpg\u001b[39m\u001b[38;5;124m\"\u001b[39m\n\u001b[0;32m      7\u001b[0m \u001b[38;5;66;03m# Запускаємо перевірку відповідності тексту і зображення\u001b[39;00m\n\u001b[1;32m----> 8\u001b[0m result \u001b[38;5;241m=\u001b[39m pipeline\u001b[38;5;241m.\u001b[39mcheck_text_image_match(text, image_path)\n\u001b[0;32m     10\u001b[0m \u001b[38;5;28mprint\u001b[39m(\u001b[38;5;124mf\u001b[39m\u001b[38;5;124m\"\u001b[39m\u001b[38;5;124mDoes the image match the text? \u001b[39m\u001b[38;5;132;01m{\u001b[39;00mresult\u001b[38;5;132;01m}\u001b[39;00m\u001b[38;5;124m\"\u001b[39m)\n",
      "File \u001b[1;32m~\\OneDrive\\Desktop\\test_tasks\\animal_recognition_pipeline\\pipeline_clf\\pipeline.py:61\u001b[0m, in \u001b[0;36mcheck_text_image_match\u001b[1;34m(text, image_path)\u001b[0m\n\u001b[0;32m     58\u001b[0m     \u001b[38;5;28;01mraise\u001b[39;00m \u001b[38;5;167;01mValueError\u001b[39;00m(\u001b[38;5;124m\"\u001b[39m\u001b[38;5;124m❌ Provided text is empty.\u001b[39m\u001b[38;5;124m\"\u001b[39m)\n\u001b[0;32m     60\u001b[0m extracted_animals \u001b[38;5;241m=\u001b[39m extract_animal(text)  \u001b[38;5;66;03m# Get animal names from text\u001b[39;00m\n\u001b[1;32m---> 61\u001b[0m predicted_class \u001b[38;5;241m=\u001b[39m classify_image(image_path)  \u001b[38;5;66;03m# Predict image class\u001b[39;00m\n\u001b[0;32m     63\u001b[0m \u001b[38;5;28;01mif\u001b[39;00m extracted_animals:\n\u001b[0;32m     64\u001b[0m     \u001b[38;5;28;01mreturn\u001b[39;00m class_mapping[predicted_class] \u001b[38;5;129;01min\u001b[39;00m extracted_animals\n",
      "File \u001b[1;32m~\\OneDrive\\Desktop\\test_tasks\\animal_recognition_pipeline\\pipeline_clf\\pipeline.py:35\u001b[0m, in \u001b[0;36mclassify_image\u001b[1;34m(image_path)\u001b[0m\n\u001b[0;32m     33\u001b[0m \u001b[38;5;250m\u001b[39m\u001b[38;5;124;03m\"\"\"Classifies an image and returns the predicted class index.\"\"\"\u001b[39;00m\n\u001b[0;32m     34\u001b[0m \u001b[38;5;28;01mif\u001b[39;00m \u001b[38;5;129;01mnot\u001b[39;00m os\u001b[38;5;241m.\u001b[39mpath\u001b[38;5;241m.\u001b[39mexists(image_path):\n\u001b[1;32m---> 35\u001b[0m     \u001b[38;5;28;01mraise\u001b[39;00m \u001b[38;5;167;01mFileNotFoundError\u001b[39;00m(\u001b[38;5;124mf\u001b[39m\u001b[38;5;124m\"\u001b[39m\u001b[38;5;124m❌ Image file \u001b[39m\u001b[38;5;124m'\u001b[39m\u001b[38;5;132;01m{\u001b[39;00mimage_path\u001b[38;5;132;01m}\u001b[39;00m\u001b[38;5;124m'\u001b[39m\u001b[38;5;124m not found.\u001b[39m\u001b[38;5;124m\"\u001b[39m)\n\u001b[0;32m     37\u001b[0m image \u001b[38;5;241m=\u001b[39m Image\u001b[38;5;241m.\u001b[39mopen(image_path)\u001b[38;5;241m.\u001b[39mconvert(\u001b[38;5;124m\"\u001b[39m\u001b[38;5;124mRGB\u001b[39m\u001b[38;5;124m\"\u001b[39m)  \n\u001b[0;32m     38\u001b[0m image \u001b[38;5;241m=\u001b[39m transform(image)\u001b[38;5;241m.\u001b[39munsqueeze(\u001b[38;5;241m0\u001b[39m)\n",
      "\u001b[1;31mFileNotFoundError\u001b[0m: ❌ Image file 'data/Animals-10/dog/1.jpg' not found."
     ]
    }
   ],
   "source": [
    "import pipeline_clf.pipeline as pipeline\n",
    "\n",
    "\n",
    "text = \"There is a dog in the picture.\"\n",
    "image_path = \"data/Animals-10/dog/1.jpg\"\n",
    "\n",
    "# Запускаємо перевірку відповідності тексту і зображення\n",
    "result = pipeline.check_text_image_match(text, image_path)\n",
    "\n",
    "print(f\"Does the image match the text? {result}\")\n"
   ]
  },
  {
   "cell_type": "code",
   "execution_count": null,
   "id": "637a35de-7dd1-455b-9586-c354fed99b67",
   "metadata": {},
   "outputs": [],
   "source": []
  }
 ],
 "metadata": {
  "kernelspec": {
   "display_name": "Python [conda env:base] *",
   "language": "python",
   "name": "conda-base-py"
  },
  "language_info": {
   "codemirror_mode": {
    "name": "ipython",
    "version": 3
   },
   "file_extension": ".py",
   "mimetype": "text/x-python",
   "name": "python",
   "nbconvert_exporter": "python",
   "pygments_lexer": "ipython3",
   "version": "3.12.7"
  }
 },
 "nbformat": 4,
 "nbformat_minor": 5
}
